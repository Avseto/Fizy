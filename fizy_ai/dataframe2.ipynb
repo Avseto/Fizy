{
 "cells": [
  {
   "cell_type": "code",
   "execution_count": 1,
   "id": "d4d7d796-5f10-44e1-b705-6a48bd1ebdb0",
   "metadata": {},
   "outputs": [
    {
     "name": "stdout",
     "output_type": "stream",
     "text": [
      "      Unnamed: 0       Song    Artist  Year    Genre\n",
      "0              0     signal      fear  1991  hip hop\n",
      "1              1       road  slippery  2013  hip hop\n",
      "2              2  overrated      rate  2012      pop\n",
      "3              3        cat      mask  2015  hip hop\n",
      "4              4     quiver     strap  2002      pop\n",
      "...          ...        ...       ...   ...      ...\n",
      "1016        1016    history   abiding  2009  hip hop\n",
      "1017        1017      silky   abiding  2007  hip hop\n",
      "1018        1018       zinc   abiding  2018  hip hop\n",
      "1019        1019      limit   abiding  2012  hip hop\n",
      "1020        1020     handle   unequal  1996     rock\n",
      "\n",
      "[1021 rows x 5 columns]\n"
     ]
    }
   ],
   "source": [
    "import pandas as pd\n",
    "import random as r\n",
    "\n",
    "df = pd.read_csv('songs.csv')\n",
    "print(df)"
   ]
  },
  {
   "cell_type": "code",
   "execution_count": 20,
   "id": "50dabb65-efb5-4c0b-9b7e-e9d7cd62b437",
   "metadata": {},
   "outputs": [
    {
     "name": "stdout",
     "output_type": "stream",
     "text": [
      "1021\n",
      "           Song    Artist  Year    Genre     Length\n",
      "0        signal      fear  1991  hip hop   1.590286\n",
      "1          road  slippery  2013  hip hop   1.826542\n",
      "2     overrated      rate  2012      pop   1.023625\n",
      "3           cat      mask  2015  hip hop   1.533997\n",
      "4        quiver     strap  2002      pop   1.401337\n",
      "...         ...       ...   ...      ...        ...\n",
      "1016    history   abiding  2009  hip hop   7.419249\n",
      "1017      silky   abiding  2007  hip hop   9.347700\n",
      "1018       zinc   abiding  2018  hip hop  17.702998\n",
      "1019      limit   abiding  2012  hip hop  15.295729\n",
      "1020     handle   unequal  1996     rock  13.607557\n",
      "\n",
      "[1021 rows x 5 columns]\n"
     ]
    }
   ],
   "source": [
    "#PARCA UZUNLUGU EKLEME (DAKIKA BAZINDA)\n",
    "\n",
    "\n",
    "uzunluk = []\n",
    "for i in range(140):\n",
    "    uzunluk.append(r.random()+0.85)\n",
    "for i in range(301):\n",
    "    uzunluk.append(r.random()+1.85)\n",
    "for i in range(466):\n",
    "    uzunluk.append(r.random()*1.2+2.85)\n",
    "for i in range(100):\n",
    "    uzunluk.append(r.random()*2.6+3.95)\n",
    "for i in range(11):\n",
    "    uzunluk.append(r.random()*3+6.55)\n",
    "for i in range(3):\n",
    "    uzunluk.append(r.random()*8.5+9.55)\n",
    "print(len(uzunluk))\n",
    "\n",
    "\n",
    "#df.insert(5, \"Length\", [x for x in uzunluk], True)\n",
    "#df = df.drop(\"Unnamed: 0\", axis = 1)\n",
    "print(df)"
   ]
  },
  {
   "cell_type": "code",
   "execution_count": 55,
   "id": "2fb46945-1c29-47cf-96dc-a720ea788485",
   "metadata": {},
   "outputs": [
    {
     "name": "stdout",
     "output_type": "stream",
     "text": [
      "1021\n",
      "           Song    Artist  Year    Genre     Length  Count  C_week\n",
      "0        signal      fear  1991  hip hop   1.590286     17       0\n",
      "1          road  slippery  2013  hip hop   1.826542     32       1\n",
      "2     overrated      rate  2012      pop   1.023625      3       4\n",
      "3           cat      mask  2015  hip hop   1.533997     26       3\n",
      "4        quiver     strap  2002      pop   1.401337     29       2\n",
      "...         ...       ...   ...      ...        ...    ...     ...\n",
      "1016    history   abiding  2009  hip hop   7.419249     10       1\n",
      "1017      silky   abiding  2007  hip hop   9.347700     38       1\n",
      "1018       zinc   abiding  2018  hip hop  17.702998     64       3\n",
      "1019      limit   abiding  2012  hip hop  15.295729     12       0\n",
      "1020     handle   unequal  1996     rock  13.607557      6       0\n",
      "\n",
      "[1021 rows x 7 columns]\n"
     ]
    }
   ],
   "source": [
    "#OYNATMA SAYISI EKLEME\n",
    "\n",
    "#TOPLAM\n",
    "kere = []\n",
    "for i in uzunluk:\n",
    "    n = r.random()\n",
    "    if n < 0.15:\n",
    "        kere.append(r.choice(range(1, 8)))\n",
    "    elif n < 0.40:\n",
    "        kere.append(r.choice(range(8, 16)))\n",
    "    elif n < 0.85:\n",
    "        kere.append(r.choice(range(16, 35)))\n",
    "    elif n < 0.96:\n",
    "        kere.append(r.choice(range(35, 70)))\n",
    "    else:\n",
    "        kere.append(r.choice(range(70, 200)))\n",
    "\n",
    "print(len(kere))\n",
    "df.insert(5, \"Count\", [x for x in kere], True)\n",
    "print(df)"
   ]
  },
  {
   "cell_type": "code",
   "execution_count": 57,
   "id": "6ad87874-3b0f-48e8-a1c7-1b50d08e5087",
   "metadata": {},
   "outputs": [
    {
     "name": "stdout",
     "output_type": "stream",
     "text": [
      "[17, 32, 3, 26, 29, 192, 22, 10, 27, 3, 21, 28, 46, 14, 5, 34, 9, 29, 1, 48, 17, 4, 19, 9, 13, 24, 31, 25, 32, 15, 33, 21, 19, 3, 71, 10, 11, 13, 6, 75, 14, 153, 10, 13, 7, 8, 14, 38, 17, 38, 61, 28, 43, 17, 2, 20, 25, 57, 9, 4, 121, 2, 1, 11, 11, 3, 42, 21, 173, 27, 15, 30, 13, 15, 14, 23, 17, 8, 36, 8, 73, 103, 20, 26, 7, 46, 26, 27, 6, 5, 5, 18, 32, 32, 8, 10, 15, 78, 30, 19, 10, 49, 21, 7, 23, 11, 29, 20, 64, 15, 13, 10, 48, 25, 47, 35, 24, 32, 5, 59, 19, 33, 79, 25, 74, 3, 36, 4, 16, 10, 23, 14, 9, 8, 21, 61, 11, 30, 33, 34, 23, 9, 4, 47, 58, 14, 16, 20, 27, 11, 55, 20, 10, 32, 143, 28, 21, 14, 27, 17, 51, 10, 34, 22, 34, 10, 31, 36, 27, 24, 13, 26, 27, 26, 23, 39, 49, 12, 16, 26, 64, 19, 16, 18, 28, 25, 11, 13, 43, 7, 34, 9, 55, 34, 21, 10, 8, 7, 11, 158, 20, 26, 8, 38, 13, 11, 17, 13, 14, 25, 29, 24, 12, 35, 25, 19, 14, 1, 14, 10, 8, 168, 129, 64, 2, 141, 15, 69, 14, 4, 28, 21, 13, 17, 31, 30, 15, 64, 53, 7, 159, 24, 10, 31, 59, 4, 15, 66, 28, 4, 19, 2, 8, 26, 27, 24, 28, 33, 26, 16, 17, 13, 34, 16, 27, 1, 23, 22, 54, 3, 25, 24, 31, 54, 10, 24, 13, 11, 22, 17, 4, 9, 15, 12, 13, 59, 27, 22, 21, 27, 30, 43, 20, 21, 23, 41, 18, 19, 32, 7, 31, 2, 13, 4, 43, 27, 21, 3, 31, 25, 5, 56, 5, 30, 64, 10, 27, 31, 68, 7, 5, 110, 26, 19, 24, 20, 9, 44, 9, 42, 14, 7, 29, 27, 3, 12, 88, 22, 3, 22, 26, 9, 41, 13, 20, 21, 15, 2, 31, 15, 3, 2, 4, 9, 2, 34, 23, 16, 12, 31, 4, 31, 126, 31, 11, 30, 26, 169, 41, 8, 4, 10, 9, 16, 11, 22, 188, 1, 16, 22, 34, 7, 13, 14, 10, 65, 28, 16, 9, 26, 18, 18, 7, 6, 17, 22, 20, 25, 20, 23, 22, 9, 8, 14, 26, 33, 5, 32, 10, 25, 49, 3, 65, 17, 15, 29, 21, 25, 13, 10, 21, 67, 7, 16, 45, 63, 3, 26, 10, 30, 40, 29, 1, 5, 20, 43, 17, 68, 27, 6, 41, 18, 19, 14, 13, 34, 27, 17, 28, 55, 111, 8, 57, 150, 19, 13, 33, 9, 66, 29, 15, 95, 35, 32, 10, 163, 71, 36, 5, 30, 65, 20, 26, 22, 12, 20, 7, 3, 3, 21, 29, 15, 9, 33, 2, 12, 9, 18, 12, 3, 65, 12, 9, 61, 38, 21, 15, 14, 7, 30, 10, 60, 124, 32, 30, 11, 2, 29, 88, 28, 17, 66, 12, 8, 56, 45, 24, 5, 9, 7, 6, 4, 13, 2, 8, 33, 24, 6, 14, 20, 16, 9, 8, 6, 63, 23, 14, 53, 7, 30, 28, 7, 25, 32, 21, 34, 10, 21, 26, 30, 8, 63, 9, 5, 8, 24, 51, 20, 195, 30, 129, 14, 30, 13, 22, 53, 16, 14, 18, 1, 5, 20, 31, 11, 18, 44, 48, 20, 13, 29, 22, 10, 16, 12, 34, 14, 17, 8, 28, 123, 5, 12, 19, 16, 28, 18, 19, 6, 4, 28, 16, 10, 59, 28, 54, 8, 10, 18, 32, 23, 67, 10, 28, 10, 36, 33, 14, 31, 26, 11, 19, 29, 18, 27, 9, 5, 17, 19, 10, 10, 11, 154, 11, 9, 11, 32, 15, 20, 14, 59, 61, 1, 21, 34, 5, 19, 7, 32, 27, 19, 13, 153, 31, 2, 198, 56, 28, 31, 32, 8, 39, 28, 27, 14, 56, 2, 1, 140, 13, 14, 15, 25, 24, 15, 1, 10, 6, 98, 23, 14, 23, 30, 38, 30, 26, 16, 26, 11, 21, 7, 32, 25, 30, 28, 3, 8, 27, 6, 5, 6, 10, 10, 43, 25, 11, 14, 20, 23, 1, 28, 85, 8, 55, 21, 31, 24, 47, 14, 29, 54, 45, 8, 9, 23, 45, 28, 25, 8, 161, 24, 32, 8, 34, 5, 3, 5, 22, 13, 68, 12, 16, 13, 16, 34, 11, 26, 20, 18, 42, 19, 4, 3, 15, 3, 13, 34, 119, 12, 7, 38, 33, 18, 20, 20, 64, 20, 14, 41, 17, 23, 7, 19, 17, 12, 23, 27, 12, 62, 16, 8, 12, 1, 62, 9, 40, 11, 142, 48, 12, 23, 18, 23, 19, 30, 17, 26, 129, 37, 51, 8, 16, 22, 6, 5, 24, 2, 2, 15, 13, 24, 31, 34, 15, 17, 3, 21, 11, 23, 29, 106, 35, 5, 20, 27, 66, 1, 30, 33, 40, 27, 25, 29, 50, 20, 12, 1, 12, 13, 17, 12, 54, 29, 1, 131, 33, 4, 6, 30, 3, 33, 63, 28, 28, 18, 29, 34, 28, 65, 31, 41, 6, 24, 23, 8, 18, 13, 20, 22, 16, 19, 47, 29, 5, 11, 7, 29, 27, 14, 20, 23, 10, 175, 11, 31, 32, 14, 57, 24, 17, 9, 17, 1, 34, 8, 11, 15, 12, 21, 22, 18, 26, 18, 13, 9, 18, 149, 29, 61, 5, 13, 29, 37, 1, 13, 16, 13, 4, 125, 20, 24, 32, 20, 13, 4, 31, 16, 165, 52, 30, 17, 4, 21, 108, 155, 5, 25, 22, 56, 26, 8, 33, 8, 9, 14, 18, 5, 14, 33, 22, 33, 34, 9, 20, 8, 4, 25, 15, 27, 2, 67, 66, 32, 34, 26, 22, 8, 9, 22, 30, 12, 60, 27, 45, 27, 119, 33, 21, 57, 23, 21, 25, 9, 30, 29, 18, 53, 12, 21, 27, 18, 22, 4, 49, 13, 10, 41, 18, 13, 21, 34, 24, 19, 18, 31, 33, 106, 22, 13, 31, 6, 97, 56, 25, 21, 32, 25, 10, 38, 64, 12, 6]\n",
      "12.493633692458374\n",
      "           Song    Artist  Year    Genre     Length  Count  C_month  C_week\n",
      "0        signal      fear  1991  hip hop   1.590286     17       17       0\n",
      "1          road  slippery  2013  hip hop   1.826542     32       10       1\n",
      "2     overrated      rate  2012      pop   1.023625      3        3       4\n",
      "3           cat      mask  2015  hip hop   1.533997     26        3       3\n",
      "4        quiver     strap  2002      pop   1.401337     29        9       2\n",
      "...         ...       ...   ...      ...        ...    ...      ...     ...\n",
      "1016    history   abiding  2009  hip hop   7.419249     10        1       1\n",
      "1017      silky   abiding  2007  hip hop   9.347700     38       38       1\n",
      "1018       zinc   abiding  2018  hip hop  17.702998     64        7       3\n",
      "1019      limit   abiding  2012  hip hop  15.295729     12       12       0\n",
      "1020     handle   unequal  1996     rock  13.607557      6        2       0\n",
      "\n",
      "[1021 rows x 8 columns]\n"
     ]
    }
   ],
   "source": [
    "#OYNATMA SAYISI EKLEME\n",
    "\n",
    "#SON 1 AYda DINLEME SAYISI\n",
    "ayda = []\n",
    "for i in kere:\n",
    "    \n",
    "    n = r.random()\n",
    "    if n < 0.70:\n",
    "        ayda.append(i // r.choice(range(1, 4)))\n",
    "    elif n < 0.89:\n",
    "        ayda.append(i // r.choice(range(4, 9)))\n",
    "    elif n < 0.98:\n",
    "        ayda.append(i // r.choice(range(9, 19)))\n",
    "    else:\n",
    "        ayda.append(0)\n",
    "    if ayda[-1] > i:\n",
    "        print('--', ayda[-1], '-->', i)\n",
    "\n",
    "print(kere)\n",
    "df.insert(6, \"C_month\", ayda, True)\n",
    "print(df[\"C_month\"].mean())\n",
    "print(df)\n",
    "#df = df.drop(\"C_month\", axis = 1)\n",
    "#print(df)"
   ]
  },
  {
   "cell_type": "code",
   "execution_count": 60,
   "id": "6239b5b0-e854-45e9-8390-9a7d46591b9f",
   "metadata": {},
   "outputs": [
    {
     "name": "stdout",
     "output_type": "stream",
     "text": [
      "           Song     Artist  Year    Genre    Length  Count  C_month  C_week\n",
      "825      school       load  2019      pop  3.752284      1        0       0\n",
      "924   embarrass      dolls  2020      pop  5.750025     31       15       7\n",
      "448        sign     flower  2004      pop  2.948358     28        7       2\n",
      "599     scatter    gainful  2007  hip hop  3.693768     28        9       3\n",
      "617       party     branch  1972      pop  3.124846     31       15      15\n",
      "153    exchange   guttural  1993  hip hop  2.666546     32        5       5\n",
      "859        arch     excuse  1991      pop  3.886631     41       13       1\n",
      "170       smell   guttural  2003  hip hop  2.113042     13        6       3\n",
      "267  earthquake       shut  1997      pop  2.747070     22        3       1\n",
      "438       small      jazzy  2012      pop  2.053559     27        6       2\n",
      "965      weight   vigorous  2002     rock  6.327332      8        8       0\n",
      "803    material    command  2012     rock  3.141532      5        5       2\n",
      "628     general     tickle  2002      pop  3.490957     10        3       1\n",
      "590    pastoral     plucky  2007      pop  3.000406      5        5       5\n",
      "994    cheerful       skip  2009  hip hop  6.457442     10       10       0\n",
      "743    instruct    license  2020      pop  3.852246     34       34      17\n",
      "911        bury  energetic  2012     folk  6.127323     37        6       6\n",
      "466        vast     feeble  2002    blues  3.574630     71       10       2\n",
      "           Song    Artist  Year    Genre     Length  Count  C_month  C_week\n",
      "0        signal      fear  1991  hip hop   1.590286     17       17       8\n",
      "1          road  slippery  2013  hip hop   1.826542     32       10       0\n",
      "2     overrated      rate  2012      pop   1.023625      3        3       1\n",
      "3           cat      mask  2015  hip hop   1.533997     26        3       1\n",
      "4        quiver     strap  2002      pop   1.401337     29        9       1\n",
      "...         ...       ...   ...      ...        ...    ...      ...     ...\n",
      "1016    history   abiding  2009  hip hop   7.419249     10        1       0\n",
      "1017      silky   abiding  2007  hip hop   9.347700     38       38      12\n",
      "1018       zinc   abiding  2018  hip hop  17.702998     64        7       7\n",
      "1019      limit   abiding  2012  hip hop  15.295729     12       12       6\n",
      "1020     handle   unequal  1996     rock  13.607557      6        2       0\n",
      "\n",
      "[1021 rows x 8 columns]\n"
     ]
    }
   ],
   "source": [
    "#OYNATMA SAYISI EKLEME\n",
    "\n",
    "#SON 1 HAFTAda DINLEME SAYISI\n",
    "hafta = []\n",
    "for i in ayda:\n",
    "    \n",
    "    n = r.random()\n",
    "    if n < 0.75:\n",
    "        hafta.append(i // r.choice(range(1, 4)))\n",
    "    elif n < 0.93:\n",
    "        hafta.append(i // r.choice(range(4, 9)))\n",
    "    else:\n",
    "        hafta.append(0)\n",
    "\n",
    "#print(len(hafta))\n",
    "df.insert(7, \"C_week\", hafta, True)\n",
    "#df = df.drop(\"C_week\", axis = 1)\n",
    "print(df.sample(18))\n",
    "print(df)"
   ]
  },
  {
   "cell_type": "code",
   "execution_count": 61,
   "id": "84e0706a-4949-4615-93eb-30d77796d619",
   "metadata": {},
   "outputs": [],
   "source": [
    "#df.to_csv(r'C:\\Users\\mrhnn\\Programming\\fizy_ai\\songs2.csv')"
   ]
  },
  {
   "cell_type": "code",
   "execution_count": null,
   "id": "9f301a26-dec3-461e-8755-2940c31b2f79",
   "metadata": {},
   "outputs": [],
   "source": []
  }
 ],
 "metadata": {
  "kernelspec": {
   "display_name": "Python 3 (ipykernel)",
   "language": "python",
   "name": "python3"
  },
  "language_info": {
   "codemirror_mode": {
    "name": "ipython",
    "version": 3
   },
   "file_extension": ".py",
   "mimetype": "text/x-python",
   "name": "python",
   "nbconvert_exporter": "python",
   "pygments_lexer": "ipython3",
   "version": "3.11.7"
  }
 },
 "nbformat": 4,
 "nbformat_minor": 5
}
