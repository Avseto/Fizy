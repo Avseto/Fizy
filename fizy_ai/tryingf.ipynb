{
 "cells": [
  {
   "cell_type": "code",
   "execution_count": 8,
   "id": "75ec4ac0-b441-44d9-a49a-05a0e61602ad",
   "metadata": {},
   "outputs": [
    {
     "name": "stdout",
     "output_type": "stream",
     "text": [
      "     Unnamed: 0   Song  Artist  Year Genre  Length  Count  C_month  C_week  \\\n",
      "817         817  short  system  2001   pop  3.2954     23       11      11   \n",
      "\n",
      "    Decade  \n",
      "817    00s  \n"
     ]
    }
   ],
   "source": [
    "import pandas as pd\n",
    "import random as r\n",
    "\n",
    "df = pd.read_csv('songs3.csv')\n",
    "#print(df['Length'].mean())\n",
    "\n",
    "#day = []\n",
    "#day = pd.DataFrame()\n",
    "day.append(df.iloc[[r.choice(range(len(df.index)))]])\n",
    "print(day[-1])"
   ]
  },
  {
   "cell_type": "code",
   "execution_count": 53,
   "id": "f3b9063e-9c68-4faf-ac8f-174391680850",
   "metadata": {},
   "outputs": [
    {
     "name": "stdout",
     "output_type": "stream",
     "text": [
      "Index(['Unnamed: 0', 'Song', 'Artist', 'Year', 'Genre', 'Length', 'Count',\n",
      "       'C_month', 'C_week', 'Decade'],\n",
      "      dtype='object')\n"
     ]
    }
   ],
   "source": [
    "#day.append(df.iloc[[r.choice(range(len(df.index)))]])\n",
    "print(df.columns)\n"
   ]
  },
  {
   "cell_type": "code",
   "execution_count": null,
   "id": "66c6e814-2665-4989-93a9-b1e1b1bb3adb",
   "metadata": {},
   "outputs": [],
   "source": []
  }
 ],
 "metadata": {
  "kernelspec": {
   "display_name": "Python 3 (ipykernel)",
   "language": "python",
   "name": "python3"
  },
  "language_info": {
   "codemirror_mode": {
    "name": "ipython",
    "version": 3
   },
   "file_extension": ".py",
   "mimetype": "text/x-python",
   "name": "python",
   "nbconvert_exporter": "python",
   "pygments_lexer": "ipython3",
   "version": "3.11.7"
  }
 },
 "nbformat": 4,
 "nbformat_minor": 5
}
