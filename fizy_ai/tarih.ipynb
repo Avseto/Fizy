{
 "cells": [
  {
   "cell_type": "code",
   "execution_count": 23,
   "id": "2657b9da-0cc7-4895-bb01-66eb2a83a324",
   "metadata": {},
   "outputs": [
    {
     "data": {
      "text/plain": [
       "'\\ndays = pd.DataFrame(columns=range(21))              #butun muzik gecmisi\\nfor i in range(1, 380, 2):\\n    day = pd.DataFrame(columns=df.columns)                            #  her bir muzik dinleme seansi\\n    day.loc[len(day.index)] = (df.sample)\\n    c_song = r.choice(range(11, 21))    #  her bir muzik dinleme seansinda dinlenecek sarki sayisi\\n    for i in range(c_song):\\n        n = r.random()\\n        if n < 0.30:         # %30 ihtimalle bir onceki muzikle ayni sanatciya ait muzik dinleme\\n            day.loc[len(day.index)] = df[df[\\'Artist\\'] == day.iloc[-1:][\"Artist\"]].sample()\\n        elif n < 0.80:       # %50 ihtimalle bir onceki muzikle ayni muzik turune ait muzik dinleme\\n            day.loc[len(day.index)] = df[df[\\'Genre\\'] == day.iloc[-1:][\"Genre\"]].sample()\\n        elif n < 0.93:       # %13 ihtimalle bir onceki muzikle ayni 10 yillik doneme ait muzik dinleme\\n            day.loc[len(day.index)] = df[df[\\'Decade\\'] == day.iloc[-1:][\"Decade\"]].sample()\\n        else:                # %7 ihtimalle rastgele muzik dinleme\\n            day.loc[len(day.index)] = df.sample()\\n        #days.loc[len(days.index)] = day\\n\\nprint(day)'"
      ]
     },
     "execution_count": 23,
     "metadata": {},
     "output_type": "execute_result"
    }
   ],
   "source": [
    "#OYNATMA LITELERI OLUSTURMA\n",
    "\n",
    "\n",
    "import pandas as pd\n",
    "import random as r\n",
    "\n",
    "df = pd.read_csv('songs3.csv')\n",
    "df = df.drop('Unnamed: 0', axis = 1)\n",
    "#print(df['Length'].mean())\n",
    "\n",
    "'''\n",
    "days = pd.DataFrame(columns=range(21))              #butun muzik gecmisi\n",
    "for i in range(1, 380, 2):\n",
    "    day = pd.DataFrame(columns=df.columns)                            #  her bir muzik dinleme seansi\n",
    "    day.loc[len(day.index)] = (df.sample)\n",
    "    c_song = r.choice(range(11, 21))    #  her bir muzik dinleme seansinda dinlenecek sarki sayisi\n",
    "    for i in range(c_song):\n",
    "        n = r.random()\n",
    "        if n < 0.30:         # %30 ihtimalle bir onceki muzikle ayni sanatciya ait muzik dinleme\n",
    "            day.loc[len(day.index)] = df[df['Artist'] == day.iloc[-1:][\"Artist\"]].sample()\n",
    "        elif n < 0.80:       # %50 ihtimalle bir onceki muzikle ayni muzik turune ait muzik dinleme\n",
    "            day.loc[len(day.index)] = df[df['Genre'] == day.iloc[-1:][\"Genre\"]].sample()\n",
    "        elif n < 0.93:       # %13 ihtimalle bir onceki muzikle ayni 10 yillik doneme ait muzik dinleme\n",
    "            day.loc[len(day.index)] = df[df['Decade'] == day.iloc[-1:][\"Decade\"]].sample()\n",
    "        else:                # %7 ihtimalle rastgele muzik dinleme\n",
    "            day.loc[len(day.index)] = df.sample()\n",
    "        #days.loc[len(days.index)] = day\n",
    "\n",
    "print(day)'''\n",
    "\n"
   ]
  },
  {
   "cell_type": "code",
   "execution_count": 35,
   "id": "6b647fc7-1759-44bf-9a3f-1d7c3a64989e",
   "metadata": {},
   "outputs": [
    {
     "name": "stdout",
     "output_type": "stream",
     "text": [
      "             Song    Artist  Year    Genre    Length  Count  C_month  C_week  \\\n",
      "745        eggnog      dead  2005  hip hop  3.605706     26        3       1   \n",
      "738       stomach   license  2015      pop  3.485313     68       68      34   \n",
      "319          land      warn  2018  hip hop  2.695340      7        7       7   \n",
      "820         ocean     dress  2014      pop  3.888353     35       11      11   \n",
      "864  well-groomed    excuse  2017      pop  3.946557     18        6       2   \n",
      "..            ...       ...   ...      ...       ...    ...      ...     ...   \n",
      "234           end  vagabond  2012      pop  2.177555     31       15       5   \n",
      "334          ship  discreet  2018  hip hop  2.086277      3        3       0   \n",
      "231         spill      ring  2014     rock  1.948504     21        1       0   \n",
      "608        insect      crib  1988      pop  3.620727     32       32       4   \n",
      "199           tow       fix  1997      pop  2.743311    158       39      39   \n",
      "\n",
      "    Decade  \n",
      "745    00s  \n",
      "738    10s  \n",
      "319    10s  \n",
      "820    10s  \n",
      "864    10s  \n",
      "..     ...  \n",
      "234    10s  \n",
      "334    10s  \n",
      "231    10s  \n",
      "608    old  \n",
      "199    90s  \n",
      "\n",
      "[81 rows x 9 columns]\n"
     ]
    }
   ],
   "source": [
    "#OYNATMA LITELERI OLUSTURMA\n",
    "\n",
    "\n",
    "import pandas as pd\n",
    "import random as r\n",
    "\n",
    "#print(df['Length'].mean())\n",
    "\n",
    "\n",
    "pl1 = df.sample(81)   #RASTGELE OYNATMA LSTESI\n",
    "print(pl1)"
   ]
  },
  {
   "cell_type": "code",
   "execution_count": 49,
   "id": "ebba6e52-e096-49b7-9957-b481c13ae93e",
   "metadata": {},
   "outputs": [
    {
     "ename": "IndentationError",
     "evalue": "expected an indented block after 'for' statement on line 21 (3471087483.py, line 22)",
     "output_type": "error",
     "traceback": [
      "\u001b[1;36m  Cell \u001b[1;32mIn[49], line 22\u001b[1;36m\u001b[0m\n\u001b[1;33m    d.append((pl1_r[i]-ratios[i])*10)\u001b[0m\n\u001b[1;37m    ^\u001b[0m\n\u001b[1;31mIndentationError\u001b[0m\u001b[1;31m:\u001b[0m expected an indented block after 'for' statement on line 21\n"
     ]
    }
   ],
   "source": [
    "    # DINLENMIS BUTUN SARKILARIN NE KADARININ HANGI TUR, SANATCI VEYA 10YILLIK DONEME AIT OLDUGUNA BAKMA\n",
    "\n",
    "  # GENEL MUZIK TURU ORANLARI\n",
    "ratio_pop = (df[df['Genre'] == \"pop\"].count() / df[\"Song\"].count())[0]\n",
    "ratio_hiphop = (df[df['Genre'] == \"hip hop\"].count() / df[\"Song\"].count())[0]\n",
    "ratio_rock = (df[df['Genre'] == \"rock\"].count() / df[\"Song\"].count())[0]\n",
    "ratio_folk = (df[df['Genre'] == \"folk\"].count() / df[\"Song\"].count())[0]\n",
    "ratio_blues = (df[df['Genre'] == \"blues\"].count() / df[\"Song\"].count())[0]\n",
    "\n",
    "ratios = [ratio_pop, ratio_hiphop, ratio_rock, ratio_folk, ratio_blues]\n",
    "print(ratio_pop+ ratio_hiphop+ ratio_rock+ ratio_folk+ ratio_blues)\n",
    "\n",
    "  # OYNATMA LISTESINDEKI MUZIK TURU ORANI\n",
    "pl1_r = [(pl1[pl1['Genre'] == \"pop\"].count() / pl1[\"Song\"].count())[0], (pl1[pl1['Genre'] == \"hip hop\"].count() / pl1[\"Song\"].count())[0], \n",
    "         (pl1[pl1['Genre'] == \"rock\"].count() / pl1[\"Song\"].count())[0], (pl1[pl1['Genre'] == \"folk\"].count() / pl1[\"Song\"].count())[0], \n",
    "        (pl1[pl1['Genre'] == \"blues\"].count() / pl1[\"Song\"].count())[0]]\n",
    "\n",
    "\n",
    "  # OYNATMA LISTESINDE DINLENMIS BUTUN MUZIKLERE NAZARAN HANGI MUZIK TURUNUN AGIR BASTIGINI SAPTAMA\n",
    "d = []\n",
    "for i in range(5):\n",
    "    d.append((pl1_r[i]-ratios[i])*10)\n",
    "\n",
    "print(d)"
   ]
  },
  {
   "cell_type": "code",
   "execution_count": null,
   "id": "fb22eb9d-e5f4-4577-a988-c04cef10267b",
   "metadata": {},
   "outputs": [],
   "source": []
  }
 ],
 "metadata": {
  "kernelspec": {
   "display_name": "Python 3 (ipykernel)",
   "language": "python",
   "name": "python3"
  },
  "language_info": {
   "codemirror_mode": {
    "name": "ipython",
    "version": 3
   },
   "file_extension": ".py",
   "mimetype": "text/x-python",
   "name": "python",
   "nbconvert_exporter": "python",
   "pygments_lexer": "ipython3",
   "version": "3.11.7"
  }
 },
 "nbformat": 4,
 "nbformat_minor": 5
}
