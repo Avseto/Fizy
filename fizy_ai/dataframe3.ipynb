{
 "cells": [
  {
   "cell_type": "code",
   "execution_count": 13,
   "id": "f8447498-5f48-47e8-9cf0-588bc52c81ad",
   "metadata": {},
   "outputs": [
    {
     "name": "stdout",
     "output_type": "stream",
     "text": [
      "           Song    Artist  Year    Genre     Length  Count  C_month  C_week\n",
      "0        signal      fear  1991  hip hop   1.590286     17       17       8\n",
      "1          road  slippery  2013  hip hop   1.826542     32       10       0\n",
      "2     overrated      rate  2012      pop   1.023625      3        3       1\n",
      "3           cat      mask  2015  hip hop   1.533997     26        3       1\n",
      "4        quiver     strap  2002      pop   1.401337     29        9       1\n",
      "...         ...       ...   ...      ...        ...    ...      ...     ...\n",
      "1016    history   abiding  2009  hip hop   7.419249     10        1       0\n",
      "1017      silky   abiding  2007  hip hop   9.347700     38       38      12\n",
      "1018       zinc   abiding  2018  hip hop  17.702998     64        7       7\n",
      "1019      limit   abiding  2012  hip hop  15.295729     12       12       6\n",
      "1020     handle   unequal  1996     rock  13.607557      6        2       0\n",
      "\n",
      "[1021 rows x 8 columns]\n"
     ]
    }
   ],
   "source": [
    "import pandas as pd\n",
    "\n",
    "df = pd.read_csv(\"songs2.csv\")\n",
    "df = df.drop('Unnamed: 0', axis = 1)\n",
    "print(df)"
   ]
  },
  {
   "cell_type": "code",
   "execution_count": 17,
   "id": "c80a8c93-77b8-419d-a264-739b6efa6720",
   "metadata": {},
   "outputs": [
    {
     "name": "stdout",
     "output_type": "stream",
     "text": [
      "            Song     Artist  Year    Genre    Length  Count  C_month  C_week  \\\n",
      "393       weight  marvelous  1984      pop  2.629321      6        3       1   \n",
      "13         count    meeting  2018      pop  1.520005     14       14       4   \n",
      "963        smile   vigorous  2008     rock  6.303174     26        3       1   \n",
      "187        misty       boil  2001      pop  2.239305     13        6       3   \n",
      "726          can  divergent  1992     folk  3.135288     25        5       0   \n",
      "28          vase     filthy  2016      pop  1.317797     32       10       3   \n",
      "597        pedal    gainful  1991  hip hop  3.700261      6        2       0   \n",
      "174         spot   guttural  1994  hip hop  2.787576     23        2       0   \n",
      "97           pop       twig  2004  hip hop  1.383793     78       11      11   \n",
      "397      married      thumb  2015      pop  2.039904     25        4       2   \n",
      "418    imaginary      kneel  2013      pop  1.870565     13        3       1   \n",
      "618   playground     branch  2009      pop  3.432471     26       26       8   \n",
      "1016     history    abiding  2009  hip hop  7.419249     10        1       0   \n",
      "0         signal       fear  1991  hip hop  1.590286     17       17       8   \n",
      "738      stomach    license  2015      pop  3.485313     68       68      34   \n",
      "545         last    suppose  1999  hip hop  3.855455     34        4       4   \n",
      "161       lethal   guttural  1994  hip hop  2.671413     10        3       3   \n",
      "499         five      floor  2013     rock  2.975081     30        2       1   \n",
      "\n",
      "     Decade  \n",
      "393     80s  \n",
      "13      10s  \n",
      "963     00s  \n",
      "187     00s  \n",
      "726     90s  \n",
      "28      10s  \n",
      "597     90s  \n",
      "174     90s  \n",
      "97      00s  \n",
      "397     10s  \n",
      "418     10s  \n",
      "618     00s  \n",
      "1016    00s  \n",
      "0       90s  \n",
      "738     10s  \n",
      "545     90s  \n",
      "161     90s  \n",
      "499     10s  \n"
     ]
    }
   ],
   "source": [
    "lar = []\n",
    "for i in df[\"Year\"]:\n",
    "    if str(i)[:3] == '197':\n",
    "        lar.append('70s')\n",
    "    elif str(i)[:3] == '198':\n",
    "        lar.append('80s')\n",
    "    elif str(i)[:3] == '199':\n",
    "        lar.append('90s')\n",
    "    elif str(i)[:3] == '200':\n",
    "        lar.append('00s')\n",
    "    elif str(i)[:3] == '201':\n",
    "        lar.append('10s')\n",
    "    elif str(i)[:3] == '202':\n",
    "        lar.append('20s')\n",
    "    else:\n",
    "        lar.append('old')\n",
    "    \n",
    "#df = df.drop(\"Decade\", axis = 1)\n",
    "#df.insert(8, \"Decade\", [x for x in lar])\n",
    "print(df.sample(18))"
   ]
  },
  {
   "cell_type": "code",
   "execution_count": 18,
   "id": "c52e3035-ebf2-4414-b130-b38ac925f26a",
   "metadata": {},
   "outputs": [],
   "source": [
    "df.to_csv(r'C:\\Users\\mrhnn\\Programming\\fizy_ai\\songs3.csv')"
   ]
  },
  {
   "cell_type": "code",
   "execution_count": null,
   "id": "6a22a6a9-2025-4a18-b88e-96b05bf5b6be",
   "metadata": {},
   "outputs": [],
   "source": []
  }
 ],
 "metadata": {
  "kernelspec": {
   "display_name": "Python 3 (ipykernel)",
   "language": "python",
   "name": "python3"
  },
  "language_info": {
   "codemirror_mode": {
    "name": "ipython",
    "version": 3
   },
   "file_extension": ".py",
   "mimetype": "text/x-python",
   "name": "python",
   "nbconvert_exporter": "python",
   "pygments_lexer": "ipython3",
   "version": "3.11.7"
  }
 },
 "nbformat": 4,
 "nbformat_minor": 5
}
